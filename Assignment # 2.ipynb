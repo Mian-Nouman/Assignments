{
 "cells": [
  {
   "cell_type": "code",
   "execution_count": 1,
   "metadata": {},
   "outputs": [
    {
     "name": "stdout",
     "output_type": "stream",
     "text": [
      "Please enter marks scored in Urdu: 80\n",
      "Please enter marks scored in English: 92\n",
      "Please enter marks scored in Maths: 84\n",
      "Please enter marks scored in Islamiat: 98\n",
      "Please enter marks scored in Computer: 99\n",
      "Grade: A+\n"
     ]
    }
   ],
   "source": [
    "urdu=int(input(\"Please enter marks scored in Urdu: \"))\n",
    "english=int(input(\"Please enter marks scored in English: \"))\n",
    "math=int(input(\"Please enter marks scored in Maths: \"))\n",
    "islamiat=int(input(\"Please enter marks scored in Islamiat: \"))\n",
    "computer=int(input(\"Please enter marks scored in Computer: \"))\n",
    "avg=(urdu+english+math+islamiat+computer)/5\n",
    "if(avg>=80):\n",
    "    print(\"Grade: A+\")\n",
    "elif(avg<80):\n",
    "    print(\"Grade: A\")\n",
    "elif(avg<70):\n",
    "    print(\"Grade: B\")\n",
    "elif(avg<60):\n",
    "    print(\"Grade: C\")\n",
    "else:\n",
    "    print(\"Grade: F\")"
   ]
  },
  {
   "cell_type": "code",
   "execution_count": 2,
   "metadata": {},
   "outputs": [
    {
     "name": "stdout",
     "output_type": "stream",
     "text": [
      "Please enter a number: 3\n",
      "This is an odd number.\n"
     ]
    }
   ],
   "source": [
    "num = int(input(\"Please enter a number: \"))\n",
    "mod = num % 2\n",
    "if mod == 0:\n",
    "    print(\"This is an even number.\")\n",
    "else:\n",
    "    print(\"This is an odd number.\")"
   ]
  },
  {
   "cell_type": "code",
   "execution_count": 3,
   "metadata": {},
   "outputs": [
    {
     "name": "stdout",
     "output_type": "stream",
     "text": [
      "The length of list is:  4\n"
     ]
    }
   ],
   "source": [
    "arr = len([14, 22, 33, 49]) \n",
    "print(\"The length of list is: \", arr)"
   ]
  },
  {
   "cell_type": "code",
   "execution_count": 4,
   "metadata": {},
   "outputs": [
    {
     "name": "stdout",
     "output_type": "stream",
     "text": [
      "How many numbers: 4\n",
      "Enter number 12\n",
      "Enter number 23\n",
      "Enter number 45\n",
      "Enter number 55\n",
      "Sum of elements in given list is : 135\n"
     ]
    }
   ],
   "source": [
    "arr = []\n",
    "num = int(input('How many numbers: '))\n",
    "for n in range(num):\n",
    "    numbers = int(input('Enter number '))\n",
    "    arr.append(numbers)\n",
    "print(\"Sum of elements in given list is :\", sum(arr))"
   ]
  },
  {
   "cell_type": "code",
   "execution_count": 5,
   "metadata": {},
   "outputs": [
    {
     "name": "stdout",
     "output_type": "stream",
     "text": [
      "How many numbers: 3\n",
      "Enter number 12\n",
      "Enter number 33\n",
      "Enter number 10\n",
      "Maximum element in the list is : 33\n"
     ]
    }
   ],
   "source": [
    "arr = []\n",
    "num = int(input('How many numbers: '))\n",
    "for n in range(num):\n",
    "    numbers = int(input('Enter number '))\n",
    "    arr.append(numbers)\n",
    "print(\"Maximum element in the list is :\", max(arr))"
   ]
  },
  {
   "cell_type": "code",
   "execution_count": 6,
   "metadata": {},
   "outputs": [
    {
     "name": "stdout",
     "output_type": "stream",
     "text": [
      "[5, 4, 3, 2]\n"
     ]
    }
   ],
   "source": [
    "arr = [5,11,12,13,4,80,3,2,33,25,19]\n",
    "num = 5\n",
    "new_list = []\n",
    "for i in arr:\n",
    "  if i<=num:\n",
    "    new_list.append(i)\n",
    "print (new_list)"
   ]
  },
  {
   "cell_type": "code",
   "execution_count": null,
   "metadata": {},
   "outputs": [],
   "source": []
  }
 ],
 "metadata": {
  "kernelspec": {
   "display_name": "Python 3",
   "language": "python",
   "name": "python3"
  },
  "language_info": {
   "codemirror_mode": {
    "name": "ipython",
    "version": 3
   },
   "file_extension": ".py",
   "mimetype": "text/x-python",
   "name": "python",
   "nbconvert_exporter": "python",
   "pygments_lexer": "ipython3",
   "version": "3.7.4"
  }
 },
 "nbformat": 4,
 "nbformat_minor": 2
}
