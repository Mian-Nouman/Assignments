{
 "cells": [
  {
   "cell_type": "code",
   "execution_count": 3,
   "metadata": {},
   "outputs": [
    {
     "name": "stdout",
     "output_type": "stream",
     "text": [
      "Please enter first value: 4\n",
      "Please enter second value: 5\n",
      "\n",
      "Please enter 1 to do addition :\n",
      "Please enter 2 to do subtraction :\n",
      "Please enter 3 to do multiplication :\n",
      "Please enter 4 to do division :\n",
      "Please enter 5 to do power: \n",
      "Enter your choice: 5\n",
      "\n",
      "Answer = : 1024\n"
     ]
    }
   ],
   "source": [
    "ans = None\n",
    "num1 = int(input(\"Please enter first value: \"))\n",
    "num2 = int(input(\"Please enter second value: \"))\n",
    "\n",
    "print(\"\\nPlease enter 1 to do addition :\")\n",
    "print(\"Please enter 2 to do subtraction :\")\n",
    "print(\"Please enter 3 to do multiplication :\")\n",
    "print(\"Please enter 4 to do division :\")\n",
    "print(\"Please enter 5 to do power: \")\n",
    "choice = int(input(\"Enter your choice: \"))\n",
    "\n",
    "if choice == 1:\n",
    "    ans = num1+num2\n",
    "elif choice == 2:\n",
    "    ans = num1-num2\n",
    "elif choice == 3:\n",
    "    ans = num1*num2\n",
    "elif choice == 4:\n",
    "    ans = num1/num2\n",
    "elif choice == 5:\n",
    "    ans = num1**num2\n",
    "else :\n",
    "    print(\"Please Select Valid Choice\")\n",
    "    \n",
    "    \n",
    "print(f\"\\nAnswer = : {ans}\")"
   ]
  },
  {
   "cell_type": "code",
   "execution_count": 5,
   "metadata": {},
   "outputs": [
    {
     "name": "stdout",
     "output_type": "stream",
     "text": [
      "Numeric value found : 6\n"
     ]
    }
   ],
   "source": [
    "arr_list = [\"Nouman\",  \"3\", 6,\"Hello\"]\n",
    "for value in arr_list:\n",
    "    if type(value) == int or type(value) == float:\n",
    "        print(f\"Numeric value found : {value}\")\n",
    "        break"
   ]
  },
  {
   "cell_type": "code",
   "execution_count": 6,
   "metadata": {},
   "outputs": [
    {
     "name": "stdout",
     "output_type": "stream",
     "text": [
      "Key added\n"
     ]
    }
   ],
   "source": [
    "dic = {}\n",
    "dic[1] = \"Key added\"\n",
    "print(dic[1])"
   ]
  },
  {
   "cell_type": "code",
   "execution_count": 7,
   "metadata": {},
   "outputs": [
    {
     "name": "stdout",
     "output_type": "stream",
     "text": [
      "Sum = 106.4\n"
     ]
    }
   ],
   "source": [
    "result = 0\n",
    "dic = {1: 2 , 2: \"Nouman\", 3: 4.4, 4:\"Not numerical\", 5: 100}\n",
    "\n",
    "for value in dic.values():\n",
    "    if type(value) == int or type(value) == float:\n",
    "        result = result + value        \n",
    "        \n",
    "print(f\"Sum = {result}\")"
   ]
  },
  {
   "cell_type": "code",
   "execution_count": 8,
   "metadata": {},
   "outputs": [
    {
     "name": "stdout",
     "output_type": "stream",
     "text": [
      "Duplicate Value : Nouman\n",
      "Duplicate Value : Nouman\n",
      "Duplicate Value : 1\n",
      "Duplicate Value : 1\n"
     ]
    }
   ],
   "source": [
    "arr_list = [\"Nouman\", \"Nouman\", 1, 1, 0.4, 0.9, 2, 3, 4, 5, 6]\n",
    "for value in arr_list:\n",
    "    if  arr_list.count(value) > 1:\n",
    "        print(f\"Duplicate Value : {value}\")"
   ]
  },
  {
   "cell_type": "code",
   "execution_count": 11,
   "metadata": {},
   "outputs": [
    {
     "name": "stdout",
     "output_type": "stream",
     "text": [
      "2 Already exists\n"
     ]
    }
   ],
   "source": [
    "dic = { 1: \"key1\",\n",
    "            2: \"key2\",\n",
    "            3: \"key3\"}\n",
    "given_key = 2\n",
    "for key in dic.keys():\n",
    "    if key == given_key:\n",
    "        print(f\"{given_key} Already exists\")"
   ]
  },
  {
   "cell_type": "code",
   "execution_count": null,
   "metadata": {},
   "outputs": [],
   "source": []
  }
 ],
 "metadata": {
  "kernelspec": {
   "display_name": "Python 3",
   "language": "python",
   "name": "python3"
  },
  "language_info": {
   "codemirror_mode": {
    "name": "ipython",
    "version": 3
   },
   "file_extension": ".py",
   "mimetype": "text/x-python",
   "name": "python",
   "nbconvert_exporter": "python",
   "pygments_lexer": "ipython3",
   "version": "3.7.4"
  }
 },
 "nbformat": 4,
 "nbformat_minor": 2
}
