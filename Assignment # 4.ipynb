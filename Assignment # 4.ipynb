{
 "cells": [
  {
   "cell_type": "code",
   "execution_count": 2,
   "metadata": {},
   "outputs": [
    {
     "name": "stdout",
     "output_type": "stream",
     "text": [
      "first_name : Mian\n",
      "last_name : Nouman\n",
      "city : Lahore\n",
      "age : 22\n"
     ]
    }
   ],
   "source": [
    "person_info = {\"first_name\": \"Mian\", \"last_name\": \"Nouman\", \"city\": \"Lahore\", \"age\": 22}\n",
    "person_info[\"qualification\"] = \"Graduation\"\n",
    "person_info[\"qualification\"] = \"BS\"\n",
    "person_info.pop(\"qualification\")\n",
    "for key, value in person_info.items():\n",
    "    print(key,\":\", value)"
   ]
  },
  {
   "cell_type": "code",
   "execution_count": 3,
   "metadata": {},
   "outputs": [
    {
     "name": "stdout",
     "output_type": "stream",
     "text": [
      "karachi {'countery': 'Pakistan', 'population': '230M', 'face': 'Karachi is for everyone'}\n",
      "mumbai {'countery': 'India', 'population': '200M', 'face': 'Very hot'}\n",
      "tokyo {'countery': 'Japan', 'population': '13.9M', 'face': 'Tech Hub'}\n"
     ]
    }
   ],
   "source": [
    "cities = {\n",
    "    \"karachi\":{\n",
    "        \"countery\": \"Pakistan\",\n",
    "        \"population\": \"230M\",\n",
    "        \"face\":\"Karachi is for everyone\",\n",
    "    },\n",
    "    \"mumbai\":{\n",
    "        \"countery\": \"India\",\n",
    "        \"population\": \"200M\",\n",
    "        \"face\": \"Very hot\",\n",
    "    },\n",
    "    \"tokyo\":{\n",
    "        \"countery\": \"Japan\",\n",
    "        \"population\": \"13.9M\",\n",
    "        \"face\": \"Tech Hub\",\n",
    "    },\n",
    "}\n",
    "for key, value in cities.items():\n",
    "    print(key, value)"
   ]
  },
  {
   "cell_type": "code",
   "execution_count": 4,
   "metadata": {},
   "outputs": [
    {
     "name": "stdout",
     "output_type": "stream",
     "text": [
      "Enter your age: 2\n",
      "The ticket for you is free.\n",
      "Enter your age: 4\n",
      "The tick for you us $10.\n",
      "Enter your age: 15\n",
      "The ticket for you is $15.\n"
     ]
    }
   ],
   "source": [
    "for i in range(1,4):\n",
    "    age = int(input(\"Enter your age: \"))\n",
    "    if age>0 and age<3:\n",
    "        print(\"The ticket for you is free.\")\n",
    "    elif age>3 and age<13:\n",
    "        print(\"The tick for you us $10.\")\n",
    "    else:\n",
    "        print(\"The ticket for you is $15.\")"
   ]
  },
  {
   "cell_type": "code",
   "execution_count": 5,
   "metadata": {},
   "outputs": [
    {
     "name": "stdout",
     "output_type": "stream",
     "text": [
      "One of my favorite books is Learn Python the Hard Way\n"
     ]
    }
   ],
   "source": [
    "def favorite_book(title):\n",
    "    print(\"One of my favorite books is\", title)\n",
    "favorite_book(\"Learn Python the Hard Way\")"
   ]
  },
  {
   "cell_type": "code",
   "execution_count": 6,
   "metadata": {},
   "outputs": [
    {
     "name": "stdout",
     "output_type": "stream",
     "text": [
      "Enter your guess(1-30): 3\n",
      "You guessed to low\n",
      "Enter your guess(1-30): 45\n",
      "You guessed too high.\n",
      "Enter your guess(1-30): 12\n",
      "You guessed to low\n"
     ]
    }
   ],
   "source": [
    "from random import randint\n",
    "random_number = randint(1,31)\n",
    "for i in range(1,4):\n",
    "    guess = int(input(\"Enter your guess(1-30): \"))\n",
    "    if guess > random_number:\n",
    "        print(\"You guessed too high.\")\n",
    "    elif guess < random_number:\n",
    "        print(\"You guessed to low\")\n",
    "    elif guess == random_number:\n",
    "        print(\"You won!\")\n",
    "        break\n",
    "    else:\n",
    "        pass"
   ]
  },
  {
   "cell_type": "code",
   "execution_count": null,
   "metadata": {},
   "outputs": [],
   "source": []
  }
 ],
 "metadata": {
  "kernelspec": {
   "display_name": "Python 3",
   "language": "python",
   "name": "python3"
  },
  "language_info": {
   "codemirror_mode": {
    "name": "ipython",
    "version": 3
   },
   "file_extension": ".py",
   "mimetype": "text/x-python",
   "name": "python",
   "nbconvert_exporter": "python",
   "pygments_lexer": "ipython3",
   "version": "3.7.4"
  }
 },
 "nbformat": 4,
 "nbformat_minor": 2
}
